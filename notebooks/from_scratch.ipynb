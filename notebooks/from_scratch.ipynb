{
 "cells": [
  {
   "cell_type": "markdown",
   "metadata": {
    "vscode": {
     "languageId": "plaintext"
    }
   },
   "source": [
    "# Bibliotecas"
   ]
  },
  {
   "cell_type": "code",
   "execution_count": 1,
   "metadata": {},
   "outputs": [],
   "source": [
    "import numpy as np\n",
    "import random "
   ]
  },
  {
   "cell_type": "markdown",
   "metadata": {},
   "source": [
    "# Problema OneMax\n",
    "- Busca-se maximizar o número de \"1s\" durante a busca;\n",
    "- Inicialmente as soluções são geradas aleatoriamente por uma lista de bits 0 e 1;\n",
    "- O objetivo é gerar a solução com maior quantidade de \"1\"\n",
    "\n",
    "- Exemplo:\n",
    "    - 10010 (soma == 2)\n",
    "    - 01110 (soma == 3)\n",
    "    - 11111 (soma == 5)"
   ]
  },
  {
   "cell_type": "code",
   "execution_count": 2,
   "metadata": {},
   "outputs": [],
   "source": [
    "# Objective function\n",
    "def fitness_function(individual):\n",
    "    \"\"\"Compute the sum of all ones in the individual (list)\n",
    "    \n",
    "    Parameters\n",
    "    ----------\n",
    "    invidivual : list\n",
    "        A list containing zeros and ones \n",
    "\n",
    "    Returns\n",
    "    ------\n",
    "    int\n",
    "        The sum of ones in the individual\n",
    "    \"\"\"\n",
    "    return sum(individual)"
   ]
  },
  {
   "cell_type": "code",
   "execution_count": 3,
   "metadata": {},
   "outputs": [],
   "source": [
    "# Tournament selection\n",
    "def tournament(pop, scores):\n",
    "    \"\"\"Create a random list of index from pop\n",
    "\n",
    "    Parameters\n",
    "    ----------\n",
    "    pop : list\n",
    "        A list of individuals\n",
    "    score : list\n",
    "        A list with individuals fitness\n",
    "\n",
    "    Returns\n",
    "    -------\n",
    "    list\n",
    "        The individual chromossome chosen in tournament\n",
    "    \"\"\"\n",
    "    index = random.choices(range(len(pop)), weights=scores, k=3)\n",
    "    best_solution = 0\n",
    "    best_index = 0\n",
    "    for i in index:\n",
    "        # Check if better (e.g. perform a tournament)\n",
    "        if scores[i] > best_solution:\n",
    "            best_index = i\n",
    "            best_solution = scores[i]\n",
    "        return pop[best_index]"
   ]
  },
  {
   "cell_type": "code",
   "execution_count": 4,
   "metadata": {},
   "outputs": [],
   "source": [
    "# Crossover operation with two parents\n",
    "def crossover(p1, p2, tx_cross):\n",
    "    \"\"\"Generate two new individuals mating two parents\n",
    "\n",
    "    Parameters\n",
    "    ----------\n",
    "    p1 : list\n",
    "    p2 : list\n",
    "        Both are list containing zeros and ones\n",
    "\n",
    "    Returns\n",
    "    -------\n",
    "    list\n",
    "        A list with two new individuals (childs) generated\n",
    "    \"\"\"\n",
    "    # Children are copies of parents by default\n",
    "    c1, c2 = p1.copy(), p2.copy()\n",
    "    # Check for recombination\n",
    "    if np.random.rand() < tx_cross:\n",
    "        # Select crossover point that is not on the end of the string\n",
    "        pt = np.random.randint(1, len(p1) - 2)\n",
    "        # Perform crossover\n",
    "        c1 = p1[:pt] + p2[pt:]\n",
    "        c2 = p2[:pt] + p1[pt:]\n",
    "    return [c1, c2]"
   ]
  },
  {
   "cell_type": "code",
   "execution_count": 5,
   "metadata": {},
   "outputs": [],
   "source": [
    "# Bit flip mutation operator\n",
    "def mutation(individual, tx_mut):\n",
    "    \"\"\"Perform mutation of an individual, based on tx_mut probability\n",
    "    \n",
    "    Parameters\n",
    "    ----------\n",
    "    individual : list\n",
    "    tx_mut : float\n",
    "\n",
    "    Returns\n",
    "    -------\n",
    "    list\n",
    "        A mutated individual\n",
    "    \"\"\"\n",
    "    for i in range(len(individual)):\n",
    "        # Check for mutation\n",
    "        if np.random.rand() < tx_mut:\n",
    "            # Change the bit (0 or 1)\n",
    "            individual[i] = 1 - individual[i]"
   ]
  },
  {
   "cell_type": "code",
   "execution_count": 6,
   "metadata": {},
   "outputs": [],
   "source": [
    "# Random initial population\n",
    "\"\"\"Create a random initial population of individuals\n",
    "\n",
    "Parameters\n",
    "----------\n",
    "size : int\n",
    "    The size of the population\n",
    "n_bits : int\n",
    "    Number of bits per individual\n",
    "\"\"\"\n",
    "def init_population(size, n_bits):\n",
    "    population = []\n",
    "    for i in range(size):\n",
    "        population.append(np.random.randint(0, 2, n_bits).tolist())\n",
    "    return population"
   ]
  },
  {
   "cell_type": "code",
   "execution_count": 7,
   "metadata": {},
   "outputs": [],
   "source": [
    "# Genetic algorithm\n",
    "def genetic_algorithm(pop, n_bits, n_iter, n_pop, tx_cross, tx_mut):\n",
    "    \"\"\"Main loop of genetic algorithm\n",
    "    \n",
    "    Parameters:\n",
    "    ----------\n",
    "    pop : list\n",
    "        Initial population\n",
    "    n_bits : \"\"\"\n",
    "    for gen in range(0, n_iter):\n",
    "        # Compute fitnesses of inidtial population\n",
    "        fitness = [fitness_function(ind) for ind in pop]\n",
    "\n",
    "        # Check for best solution\n",
    "        best_fitness = fitness_function(pop[0])\n",
    "        for i in range(n_pop):\n",
    "            if fitness[i] == n_bits:\n",
    "                return gen, pop[i], fitness[i]\n",
    "            if fitness[i] > best_fitness:\n",
    "                best_ind = pop[i]\n",
    "                best_fitness = fitness[i]\n",
    "                print(f'Geração: {gen}; Cromossomo: {best_ind}; \\\n",
    "                      fitness{best_fitness}')\n",
    "        mating_pool = []\n",
    "        for ind in range(n_pop):\n",
    "            mating_pool.append(tournament(pop, fitness))\n",
    "\n",
    "        # Clear current population\n",
    "        pop.clear()\n",
    "\n",
    "        # Apply crossover and mutation operators\n",
    "        for i in range(0, n_pop, 2):\n",
    "            p1, p2 = mating_pool[i], mating_pool[i+1]\n",
    "            # Crossover\n",
    "            for children in crossover(p1, p2, tx_cross):\n",
    "                # Mutation\n",
    "                mutation(children, tx_mut)\n",
    "                # Append to the current population\n",
    "                pop.append(children)\n",
    "    return gen, best_ind, best_fitness"
   ]
  },
  {
   "cell_type": "code",
   "execution_count": 8,
   "metadata": {},
   "outputs": [
    {
     "name": "stdout",
     "output_type": "stream",
     "text": [
      "Cromossomo: [1, 0, 0, 0, 1]\n",
      "Cromossomo: [0, 0, 1, 1, 1]\n",
      "Cromossomo: [0, 0, 0, 0, 1]\n",
      "Cromossomo: [1, 1, 1, 1, 0]\n",
      "Cromossomo: [0, 0, 1, 1, 0]\n",
      "Cromossomo: [1, 0, 1, 1, 0]\n",
      "Cromossomo: [1, 1, 1, 1, 0]\n",
      "Cromossomo: [1, 1, 1, 1, 0]\n"
     ]
    }
   ],
   "source": [
    "n_iter = 10  # number of iteractions\n",
    "n_bits = 5   # number of bits\n",
    "n_pop = 8  # population size\n",
    "tx_cross = .9  # crossover rate\n",
    "tx_mut = .2  # mutation rate\n",
    "\n",
    "# Initial population\n",
    "pop = init_population(n_pop, n_bits)\n",
    "for i in pop:\n",
    "    print(f'Cromossomo: {i}')"
   ]
  },
  {
   "cell_type": "code",
   "execution_count": 9,
   "metadata": {},
   "outputs": [
    {
     "name": "stdout",
     "output_type": "stream",
     "text": [
      "Geração: 0; Cromossomo: [0, 0, 1, 1, 1];                       fitness3\n",
      "Geração: 0; Cromossomo: [1, 1, 1, 1, 0];                       fitness4\n",
      "Geração: 1; Cromossomo: [1, 0, 1, 1, 1];                       fitness4\n",
      "Geração: 4; Cromossomo: [1, 1, 0, 0, 1];                       fitness3\n",
      "Geração: 4; Cromossomo: [1, 0, 1, 1, 1];                       fitness4\n",
      "Geração: 6; Cromossomo: [1, 0, 1, 1, 1];                       fitness4\n",
      "Geração: 7; Cromossomo: [1, 0, 1, 1, 1];                       fitness4\n",
      "Gen: 7; Cromossomo: [1, 1, 1, 1, 1]; Fit: 5\n"
     ]
    }
   ],
   "source": [
    "# Run algorithm\n",
    "gen, ind, fitness = genetic_algorithm(pop, n_bits, n_iter, n_pop, tx_cross, tx_mut)\n",
    "print(f'Gen: {gen}; Cromossomo: {ind}; Fit: {fitness}')"
   ]
  }
 ],
 "metadata": {
  "kernelspec": {
   "display_name": ".venv",
   "language": "python",
   "name": "python3"
  },
  "language_info": {
   "codemirror_mode": {
    "name": "ipython",
    "version": 3
   },
   "file_extension": ".py",
   "mimetype": "text/x-python",
   "name": "python",
   "nbconvert_exporter": "python",
   "pygments_lexer": "ipython3",
   "version": "3.10.11"
  }
 },
 "nbformat": 4,
 "nbformat_minor": 2
}
